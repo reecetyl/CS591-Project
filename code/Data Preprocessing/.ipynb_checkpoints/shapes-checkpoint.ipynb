{
 "cells": [
  {
   "cell_type": "code",
   "execution_count": 1,
   "metadata": {},
   "outputs": [
    {
     "ename": "ModuleNotFoundError",
     "evalue": "No module named 'shapely'",
     "output_type": "error",
     "traceback": [
      "\u001b[0;31m---------------------------------------------------------------------------\u001b[0m",
      "\u001b[0;31mModuleNotFoundError\u001b[0m                       Traceback (most recent call last)",
      "\u001b[0;32m<ipython-input-1-f59107def25d>\u001b[0m in \u001b[0;36m<module>\u001b[0;34m\u001b[0m\n\u001b[0;32m----> 1\u001b[0;31m \u001b[0;32mimport\u001b[0m \u001b[0mshapely\u001b[0m\u001b[0;34m\u001b[0m\u001b[0;34m\u001b[0m\u001b[0m\n\u001b[0m\u001b[1;32m      2\u001b[0m \u001b[0;32mimport\u001b[0m \u001b[0mgeopandas\u001b[0m\u001b[0;34m\u001b[0m\u001b[0;34m\u001b[0m\u001b[0m\n\u001b[1;32m      3\u001b[0m \u001b[0;32mfrom\u001b[0m \u001b[0mmatplotlib\u001b[0m \u001b[0;32mimport\u001b[0m \u001b[0mpyplot\u001b[0m \u001b[0;32mas\u001b[0m \u001b[0mplt\u001b[0m\u001b[0;34m\u001b[0m\u001b[0;34m\u001b[0m\u001b[0m\n\u001b[1;32m      4\u001b[0m \u001b[0mgpd\u001b[0m\u001b[0;34m.\u001b[0m\u001b[0mio\u001b[0m\u001b[0;34m.\u001b[0m\u001b[0mfile\u001b[0m\u001b[0;34m.\u001b[0m\u001b[0mfiona\u001b[0m\u001b[0;34m.\u001b[0m\u001b[0mdrvsupport\u001b[0m\u001b[0;34m.\u001b[0m\u001b[0msupported_drivers\u001b[0m\u001b[0;34m[\u001b[0m\u001b[0;34m'KML'\u001b[0m\u001b[0;34m]\u001b[0m \u001b[0;34m=\u001b[0m \u001b[0;34m'rw'\u001b[0m\u001b[0;34m\u001b[0m\u001b[0;34m\u001b[0m\u001b[0m\n\u001b[1;32m      5\u001b[0m \u001b[0;34m\u001b[0m\u001b[0m\n",
      "\u001b[0;31mModuleNotFoundError\u001b[0m: No module named 'shapely'"
     ]
    }
   ],
   "source": [
    "import shapely\n",
    "import geopandas\n",
    "from matplotlib import pyplot as plt\n",
    "gpd.io.file.fiona.drvsupport.supported_drivers['KML'] = 'rw'\n",
    "\n",
    "\n",
    "\n",
    "def within_shape(df, shapes):\n",
    "    in_shape = []\n",
    "    for sh in shapes.geometry:\n",
    "        within = df.within(sh)\n",
    "        in_shape.append(within)\n",
    "    return in_shape\n",
    "\n",
    "plt.clf()\n",
    "\n",
    "DATAFOLDER = \"../../data/\"\n",
    "\n",
    "#gdf = geopandas.read_file('/Users/kellyduncan/Downloads/Boston_Neighborhoods-shp/Boston_Neighborhoods.shp')\n",
    "gdf = geopandas.read_file(DATAFOLDER + \"shapefiles/Boston_Neighborhoods.kml\", driver='KML')\n",
    "\n",
    "print(gdf.head(10))#print(gdf[gdf.Name.eq(\"Beacon Hill\")])\n",
    "#gdf.plot()\n",
    "#plt.show()\n",
    "\n",
    "gdf2 = geopandas.GeoDataFrame(final_boston, geometry=geopandas.points_from_xy(final_boston.Long, final_boston.Lat))\n",
    "#print(gdf2.head(10))\n",
    "#gdf2.plot()\n",
    "#plt.show()\n",
    "   \n",
    "\n",
    "point = (-71.07136,42.35576)\n",
    "point2 = (42.35576,-71.07136)\n",
    "\n",
    "fig, ax = plt.subplots()\n",
    "\n",
    "beacon_hill = gdf[gdf.Name.eq(\"Beacon Hill\")]\n",
    "print(beacon_hill)\n",
    "beacon_hill.plot(ax=ax)\n",
    "\n",
    "gdf2.head(100).plot(ax=ax, color='blue', markersize=5)\n",
    "plt.tight_layout()\n",
    "\n",
    "print(beacon_hill['geometry'])\n",
    "new_point = shapely.geometry.Point(point)\n",
    "beacon_hill.geometry.contains(new_point)\n",
    "#new_point.within(beacon_hill['geometry'])\n",
    "#shapely.geometry.shape(beacon_hill)\n",
    "#print(gdf['geometry'])\n",
    "\n",
    "gdf2['neighborhood'] = None\n",
    "for index, row in gdf2.iterrows():\n",
    "    for name in gdf['Name']:\n",
    "        if gdf[gdf.Name.eq(name)].geometry.contains(row.geometry).bool():\n",
    "            gdf2.at[index,'neighborhood'] = name\n",
    "    #if index > 100:\n",
    "    #    break\n",
    "print(gdf2.head(100))"
   ]
  },
  {
   "cell_type": "code",
   "execution_count": null,
   "metadata": {},
   "outputs": [],
   "source": []
  }
 ],
 "metadata": {
  "kernelspec": {
   "display_name": "Python 3",
   "language": "python",
   "name": "python3"
  },
  "language_info": {
   "codemirror_mode": {
    "name": "ipython",
    "version": 3
   },
   "file_extension": ".py",
   "mimetype": "text/x-python",
   "name": "python",
   "nbconvert_exporter": "python",
   "pygments_lexer": "ipython3",
   "version": "3.7.3"
  }
 },
 "nbformat": 4,
 "nbformat_minor": 2
}
